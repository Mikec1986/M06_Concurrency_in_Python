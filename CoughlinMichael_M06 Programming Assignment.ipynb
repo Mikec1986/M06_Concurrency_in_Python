{
 "cells": [
  {
   "cell_type": "code",
   "execution_count": 1,
   "id": "02e8cd86",
   "metadata": {},
   "outputs": [],
   "source": [
    "#13.1 Write the current date as a string to the text file today.txt.\n",
    "\n",
    "import datetime\n",
    "today = date.today()\n",
    "\n",
    "text_file = open('today.txt', 'w')\n",
    "text_file.write(str(today))\n",
    "text_file.close()"
   ]
  },
  {
   "cell_type": "code",
   "execution_count": 3,
   "id": "d5fa93ec",
   "metadata": {},
   "outputs": [],
   "source": [
    "#13.2 Read the text file today.txt into the string today_string.\n",
    "\n",
    "textfile = open('today.txt', 'r')\n",
    "today_string = textfile.read()\n",
    "text_file.close()"
   ]
  },
  {
   "cell_type": "code",
   "execution_count": 6,
   "id": "a09acc1c",
   "metadata": {},
   "outputs": [
    {
     "name": "stdout",
     "output_type": "stream",
     "text": [
      "2023-09-27 00:00:00\n"
     ]
    }
   ],
   "source": [
    "#13.3 Parse the date from today_string.\n",
    "\n",
    "parsedData = datetime.datetime.strptime(today_string, \"%Y-%m-%d\")\n",
    "print(parsedData)"
   ]
  },
  {
   "cell_type": "code",
   "execution_count": null,
   "id": "9db4f123",
   "metadata": {},
   "outputs": [],
   "source": [
    "#15.1 Use multiprocessing to create three separate processes.\n",
    "#Make each one wait a random number of seconds between zero and one, print the current time, and then exit.\n",
    "import multiprocessing as mp\n",
    "import datetime\n",
    "import time\n",
    "import random\n",
    "\n",
    "\n",
    "def print_current_time():\n",
    "    current_time = datetime.datetime.now()\n",
    "    print(\"The date and time is {}\".format(current_time))\n",
    "    time.sleep(random.random())\n",
    "\n",
    "    \n",
    "if __name__ == '__main__':\n",
    "    mp1 = mp.Process(target=print_current_time())\n",
    "    mp2 = mp.Process(target=print_current_time())\n",
    "    mp3 = mp.Process(target=print_current_time())\n",
    "\n",
    "    mp1.start()\n",
    "    mp2.start()\n",
    "    mp3.start()\n",
    "\n",
    "    mp1.join()\n",
    "    mp2.join()\n",
    "    mp3.join()\n",
    "\n",
    "print(\"Finished\")"
   ]
  }
 ],
 "metadata": {
  "kernelspec": {
   "display_name": "Python 3 (ipykernel)",
   "language": "python",
   "name": "python3"
  },
  "language_info": {
   "codemirror_mode": {
    "name": "ipython",
    "version": 3
   },
   "file_extension": ".py",
   "mimetype": "text/x-python",
   "name": "python",
   "nbconvert_exporter": "python",
   "pygments_lexer": "ipython3",
   "version": "3.11.4"
  }
 },
 "nbformat": 4,
 "nbformat_minor": 5
}
